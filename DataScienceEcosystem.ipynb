{
 "cells": [
  {
   "cell_type": "markdown",
   "id": "dc951c00-5848-4288-b3a2-1a5a16f8a057",
   "metadata": {
    "tags": []
   },
   "source": [
    "# Data Science Tools and Ecosystem"
   ]
  },
  {
   "cell_type": "markdown",
   "id": "fac07b22-a711-419a-99b5-d4231c6ef9ed",
   "metadata": {},
   "source": [
    "In this notebook, Data Science Tools and Ecosystem are summarized."
   ]
  },
  {
   "cell_type": "code",
   "execution_count": null,
   "id": "c0a337d5-1fe3-491a-a1f3-930b3c606d18",
   "metadata": {},
   "outputs": [],
   "source": [
    "**Objectives:**\n",
    "Some of the key takeaways from the course are:\n",
    "- Study of Data Science languages (SQL, Python and R)\n",
    "- Study of Data Science environments (Apache, RSTUDIO and Jupyter)\n",
    "- Working with Jupyter Notebook"
   ]
  },
  {
   "cell_type": "markdown",
   "id": "7a1b8fb2-0736-4aeb-89f9-3a839b321de9",
   "metadata": {},
   "source": [
    "**Objectives:**\n",
    "Some of the key takeaways from the course are:\n",
    "- Study of Data Science languages (SQL, Python and R)\n",
    "- Study of Data Science environments (Apache, RSTUDIO and Jupyter)\n",
    "- Working with Jupyter Notebook"
   ]
  },
  {
   "cell_type": "code",
   "execution_count": null,
   "id": "9398bcb5-2c7b-4ce9-87a2-976bf0488356",
   "metadata": {},
   "outputs": [],
   "source": [
    "Some of the popular languages that Data Scientists use are:\n",
    "1. SQL\n",
    "2. Python\n",
    "3. R"
   ]
  },
  {
   "cell_type": "markdown",
   "id": "fdff02e9-ca07-44bd-89d3-7c8fc48dae6c",
   "metadata": {},
   "source": [
    "Some of the popular languages that Data Scientists use are:\n",
    "1. SQL\n",
    "2. Python\n",
    "3. R"
   ]
  },
  {
   "cell_type": "markdown",
   "id": "428966be-c9ea-4dfd-ab31-f78d07dbcd99",
   "metadata": {},
   "source": [
    "Some of the commonly used libraries used by Data Scientists include:\n",
    "1. Python\n",
    "2. Matplotlib\n",
    "3. Tensorflow"
   ]
  },
  {
   "cell_type": "markdown",
   "id": "c133e07d-1169-4e3a-98a7-f7317e8d4f47",
   "metadata": {},
   "source": [
    "Some of the commonly used libraries used by Data Scientists include:\n",
    "1. Python\n",
    "2. Matplotlib\n",
    "3. Tensorflow"
   ]
  },
  {
   "cell_type": "markdown",
   "id": "0b1ec43d-fffa-48f7-9e75-317e6daa0784",
   "metadata": {},
   "source": [
    "|Data Science Tools|\n",
    "|------------------|\n",
    "|Jupyter           |\n",
    "|Apache Flink      |\n",
    "|Rstudio           |\n"
   ]
  },
  {
   "cell_type": "markdown",
   "id": "5733b24a-5fc4-4a04-93ac-b0ce403440f7",
   "metadata": {},
   "source": [
    "|Data Science Tools|\n",
    "|------------------|\n",
    "|Jupyter           |\n",
    "|Apache Flink      |\n",
    "|Rstudio           |\n"
   ]
  },
  {
   "cell_type": "markdown",
   "id": "59865a92-54f2-440b-a40c-55aad484ed5d",
   "metadata": {},
   "source": [
    "### Below are a few examples of evaluating arithmetic expressions in Python."
   ]
  },
  {
   "cell_type": "markdown",
   "id": "dcd2e6e0-49e4-4336-8cfc-6cdaf34e9a9c",
   "metadata": {},
   "source": [
    "### Below are a few examples of evaluating arithmetic expressions in Python."
   ]
  },
  {
   "cell_type": "code",
   "execution_count": 2,
   "id": "5a7f20b4-ca66-4d35-9d69-0558ae682c77",
   "metadata": {
    "tags": []
   },
   "outputs": [
    {
     "name": "stdout",
     "output_type": "stream",
     "text": [
      "This a simple arithmetic expression to mutiply then add integers\n",
      "(3*4)+5 =\n"
     ]
    },
    {
     "data": {
      "text/plain": [
       "17"
      ]
     },
     "execution_count": 2,
     "metadata": {},
     "output_type": "execute_result"
    }
   ],
   "source": [
    "print('This a simple arithmetic expression to mutiply then add integers')\n",
    "print('(3*4)+5 =')\n",
    "(3*4)+5"
   ]
  },
  {
   "cell_type": "code",
   "execution_count": 3,
   "id": "07902c00-52e3-49aa-adb7-92722c6a9be2",
   "metadata": {
    "tags": []
   },
   "outputs": [
    {
     "name": "stdout",
     "output_type": "stream",
     "text": [
      "This will convert 200 minutes to hours by diving by 60.\n"
     ]
    },
    {
     "data": {
      "text/plain": [
       "3.3333333333333335"
      ]
     },
     "execution_count": 3,
     "metadata": {},
     "output_type": "execute_result"
    }
   ],
   "source": [
    "print('This will convert 200 minutes to hours by diving by 60.')\n",
    "200/60"
   ]
  },
  {
   "cell_type": "code",
   "execution_count": null,
   "id": "94c3ddc8-ec82-48d4-ba74-34f62a37cbe1",
   "metadata": {},
   "outputs": [],
   "source": [
    "## Author\n",
    "Thomas S. Maso"
   ]
  },
  {
   "cell_type": "markdown",
   "id": "e0df3216-217d-4368-85e4-266a45ade6a7",
   "metadata": {},
   "source": [
    "## Author\n",
    "Thomas S. Maso"
   ]
  },
  {
   "cell_type": "code",
   "execution_count": null,
   "id": "10a776b5-f3c8-4c5d-9139-44d336dece5a",
   "metadata": {},
   "outputs": [],
   "source": []
  }
 ],
 "metadata": {
  "kernelspec": {
   "display_name": "Python",
   "language": "python",
   "name": "conda-env-python-py"
  },
  "language_info": {
   "codemirror_mode": {
    "name": "ipython",
    "version": 3
   },
   "file_extension": ".py",
   "mimetype": "text/x-python",
   "name": "python",
   "nbconvert_exporter": "python",
   "pygments_lexer": "ipython3",
   "version": "3.7.12"
  }
 },
 "nbformat": 4,
 "nbformat_minor": 5
}
